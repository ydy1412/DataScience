{
 "cells": [
  {
   "cell_type": "code",
   "execution_count": 1,
   "metadata": {},
   "outputs": [],
   "source": [
    "import numpy as np\n",
    "import pandas as pd\n",
    "import matplotlib.pyplot as plt\n",
    "import seaborn as sns\n",
    "import matplotlib.font_manager as fm\n",
    "import matplotlib as mpl\n",
    "import os\n",
    "import pickle\n",
    "import plotly\n",
    "import matplotlib.gridspec as gridspec\n",
    "from tqdm import tqdm_notebook\n",
    "\n",
    "font_name = fm.FontProperties(fname = \"c:/Windows/Fonts/malgun.ttf\").get_name()\n",
    "plt.rc('font', family = font_name)\n",
    "mpl.rcParams['axes.unicode_minus'] = False\n"
   ]
  },
  {
   "cell_type": "code",
   "execution_count": 3,
   "metadata": {},
   "outputs": [
    {
     "name": "stdout",
     "output_type": "stream",
     "text": [
      "(51392, 154)\n"
     ]
    },
    {
     "data": {
      "text/html": [
       "<div>\n",
       "<style scoped>\n",
       "    .dataframe tbody tr th:only-of-type {\n",
       "        vertical-align: middle;\n",
       "    }\n",
       "\n",
       "    .dataframe tbody tr th {\n",
       "        vertical-align: top;\n",
       "    }\n",
       "\n",
       "    .dataframe thead th {\n",
       "        text-align: right;\n",
       "    }\n",
       "</style>\n",
       "<table border=\"1\" class=\"dataframe\">\n",
       "  <thead>\n",
       "    <tr style=\"text-align: right;\">\n",
       "      <th></th>\n",
       "      <th>Respondent</th>\n",
       "      <th>Professional</th>\n",
       "      <th>ProgramHobby</th>\n",
       "      <th>Country</th>\n",
       "      <th>University</th>\n",
       "      <th>EmploymentStatus</th>\n",
       "      <th>FormalEducation</th>\n",
       "      <th>MajorUndergrad</th>\n",
       "      <th>HomeRemote</th>\n",
       "      <th>CompanySize</th>\n",
       "      <th>...</th>\n",
       "      <th>StackOverflowMakeMoney</th>\n",
       "      <th>Gender</th>\n",
       "      <th>HighestEducationParents</th>\n",
       "      <th>Race</th>\n",
       "      <th>SurveyLong</th>\n",
       "      <th>QuestionsInteresting</th>\n",
       "      <th>QuestionsConfusing</th>\n",
       "      <th>InterestedAnswers</th>\n",
       "      <th>Salary</th>\n",
       "      <th>ExpectedSalary</th>\n",
       "    </tr>\n",
       "  </thead>\n",
       "  <tbody>\n",
       "    <tr>\n",
       "      <td>0</td>\n",
       "      <td>1</td>\n",
       "      <td>Student</td>\n",
       "      <td>Yes, both</td>\n",
       "      <td>United States</td>\n",
       "      <td>No</td>\n",
       "      <td>Not employed, and not looking for work</td>\n",
       "      <td>Secondary school</td>\n",
       "      <td>NaN</td>\n",
       "      <td>NaN</td>\n",
       "      <td>NaN</td>\n",
       "      <td>...</td>\n",
       "      <td>Strongly disagree</td>\n",
       "      <td>Male</td>\n",
       "      <td>High school</td>\n",
       "      <td>White or of European descent</td>\n",
       "      <td>Strongly disagree</td>\n",
       "      <td>Strongly agree</td>\n",
       "      <td>Disagree</td>\n",
       "      <td>Strongly agree</td>\n",
       "      <td>NaN</td>\n",
       "      <td>NaN</td>\n",
       "    </tr>\n",
       "    <tr>\n",
       "      <td>1</td>\n",
       "      <td>2</td>\n",
       "      <td>Student</td>\n",
       "      <td>Yes, both</td>\n",
       "      <td>United Kingdom</td>\n",
       "      <td>Yes, full-time</td>\n",
       "      <td>Employed part-time</td>\n",
       "      <td>Some college/university study without earning ...</td>\n",
       "      <td>Computer science or software engineering</td>\n",
       "      <td>More than half, but not all, the time</td>\n",
       "      <td>20 to 99 employees</td>\n",
       "      <td>...</td>\n",
       "      <td>Strongly disagree</td>\n",
       "      <td>Male</td>\n",
       "      <td>A master's degree</td>\n",
       "      <td>White or of European descent</td>\n",
       "      <td>Somewhat agree</td>\n",
       "      <td>Somewhat agree</td>\n",
       "      <td>Disagree</td>\n",
       "      <td>Strongly agree</td>\n",
       "      <td>NaN</td>\n",
       "      <td>37500.0</td>\n",
       "    </tr>\n",
       "    <tr>\n",
       "      <td>2</td>\n",
       "      <td>3</td>\n",
       "      <td>Professional developer</td>\n",
       "      <td>Yes, both</td>\n",
       "      <td>United Kingdom</td>\n",
       "      <td>No</td>\n",
       "      <td>Employed full-time</td>\n",
       "      <td>Bachelor's degree</td>\n",
       "      <td>Computer science or software engineering</td>\n",
       "      <td>Less than half the time, but at least one day ...</td>\n",
       "      <td>10,000 or more employees</td>\n",
       "      <td>...</td>\n",
       "      <td>Disagree</td>\n",
       "      <td>Male</td>\n",
       "      <td>A professional degree</td>\n",
       "      <td>White or of European descent</td>\n",
       "      <td>Somewhat agree</td>\n",
       "      <td>Agree</td>\n",
       "      <td>Disagree</td>\n",
       "      <td>Agree</td>\n",
       "      <td>113750.0</td>\n",
       "      <td>NaN</td>\n",
       "    </tr>\n",
       "    <tr>\n",
       "      <td>3</td>\n",
       "      <td>4</td>\n",
       "      <td>Professional non-developer who sometimes write...</td>\n",
       "      <td>Yes, both</td>\n",
       "      <td>United States</td>\n",
       "      <td>No</td>\n",
       "      <td>Employed full-time</td>\n",
       "      <td>Doctoral degree</td>\n",
       "      <td>A non-computer-focused engineering discipline</td>\n",
       "      <td>Less than half the time, but at least one day ...</td>\n",
       "      <td>10,000 or more employees</td>\n",
       "      <td>...</td>\n",
       "      <td>Disagree</td>\n",
       "      <td>Male</td>\n",
       "      <td>A doctoral degree</td>\n",
       "      <td>White or of European descent</td>\n",
       "      <td>Agree</td>\n",
       "      <td>Agree</td>\n",
       "      <td>Somewhat agree</td>\n",
       "      <td>Strongly agree</td>\n",
       "      <td>NaN</td>\n",
       "      <td>NaN</td>\n",
       "    </tr>\n",
       "    <tr>\n",
       "      <td>4</td>\n",
       "      <td>5</td>\n",
       "      <td>Professional developer</td>\n",
       "      <td>Yes, I program as a hobby</td>\n",
       "      <td>Switzerland</td>\n",
       "      <td>No</td>\n",
       "      <td>Employed full-time</td>\n",
       "      <td>Master's degree</td>\n",
       "      <td>Computer science or software engineering</td>\n",
       "      <td>Never</td>\n",
       "      <td>10 to 19 employees</td>\n",
       "      <td>...</td>\n",
       "      <td>NaN</td>\n",
       "      <td>NaN</td>\n",
       "      <td>NaN</td>\n",
       "      <td>NaN</td>\n",
       "      <td>NaN</td>\n",
       "      <td>NaN</td>\n",
       "      <td>NaN</td>\n",
       "      <td>NaN</td>\n",
       "      <td>NaN</td>\n",
       "      <td>NaN</td>\n",
       "    </tr>\n",
       "  </tbody>\n",
       "</table>\n",
       "<p>5 rows × 154 columns</p>\n",
       "</div>"
      ],
      "text/plain": [
       "   Respondent                                       Professional  \\\n",
       "0           1                                            Student   \n",
       "1           2                                            Student   \n",
       "2           3                             Professional developer   \n",
       "3           4  Professional non-developer who sometimes write...   \n",
       "4           5                             Professional developer   \n",
       "\n",
       "                ProgramHobby         Country      University  \\\n",
       "0                  Yes, both   United States              No   \n",
       "1                  Yes, both  United Kingdom  Yes, full-time   \n",
       "2                  Yes, both  United Kingdom              No   \n",
       "3                  Yes, both   United States              No   \n",
       "4  Yes, I program as a hobby     Switzerland              No   \n",
       "\n",
       "                         EmploymentStatus  \\\n",
       "0  Not employed, and not looking for work   \n",
       "1                      Employed part-time   \n",
       "2                      Employed full-time   \n",
       "3                      Employed full-time   \n",
       "4                      Employed full-time   \n",
       "\n",
       "                                     FormalEducation  \\\n",
       "0                                   Secondary school   \n",
       "1  Some college/university study without earning ...   \n",
       "2                                  Bachelor's degree   \n",
       "3                                    Doctoral degree   \n",
       "4                                    Master's degree   \n",
       "\n",
       "                                  MajorUndergrad  \\\n",
       "0                                            NaN   \n",
       "1       Computer science or software engineering   \n",
       "2       Computer science or software engineering   \n",
       "3  A non-computer-focused engineering discipline   \n",
       "4       Computer science or software engineering   \n",
       "\n",
       "                                          HomeRemote  \\\n",
       "0                                                NaN   \n",
       "1              More than half, but not all, the time   \n",
       "2  Less than half the time, but at least one day ...   \n",
       "3  Less than half the time, but at least one day ...   \n",
       "4                                              Never   \n",
       "\n",
       "                CompanySize  ... StackOverflowMakeMoney Gender  \\\n",
       "0                       NaN  ...      Strongly disagree   Male   \n",
       "1        20 to 99 employees  ...      Strongly disagree   Male   \n",
       "2  10,000 or more employees  ...               Disagree   Male   \n",
       "3  10,000 or more employees  ...               Disagree   Male   \n",
       "4        10 to 19 employees  ...                    NaN    NaN   \n",
       "\n",
       "  HighestEducationParents                          Race         SurveyLong  \\\n",
       "0             High school  White or of European descent  Strongly disagree   \n",
       "1       A master's degree  White or of European descent     Somewhat agree   \n",
       "2   A professional degree  White or of European descent     Somewhat agree   \n",
       "3       A doctoral degree  White or of European descent              Agree   \n",
       "4                     NaN                           NaN                NaN   \n",
       "\n",
       "  QuestionsInteresting QuestionsConfusing InterestedAnswers    Salary  \\\n",
       "0       Strongly agree           Disagree    Strongly agree       NaN   \n",
       "1       Somewhat agree           Disagree    Strongly agree       NaN   \n",
       "2                Agree           Disagree             Agree  113750.0   \n",
       "3                Agree     Somewhat agree    Strongly agree       NaN   \n",
       "4                  NaN                NaN               NaN       NaN   \n",
       "\n",
       "   ExpectedSalary  \n",
       "0             NaN  \n",
       "1         37500.0  \n",
       "2             NaN  \n",
       "3             NaN  \n",
       "4             NaN  \n",
       "\n",
       "[5 rows x 154 columns]"
      ]
     },
     "execution_count": 3,
     "metadata": {},
     "output_type": "execute_result"
    }
   ],
   "source": [
    "os_cwd = os.getcwd()\n",
    "Public_2017_directory = 'C:/team_project_data/2017_public.csv'\n",
    "Public_2018_directory = 'C:/team_project_data/2018_public.csv'\n",
    "Public_2017_data = pd.read_csv(Public_2017_directory)\n",
    "Public_2018_data = pd.read_csv(Public_2018_directory)\n",
    "print(Public_2017_data.shape)\n",
    "Public_2017_data.head()\n"
   ]
  },
  {
   "cell_type": "code",
   "execution_count": null,
   "metadata": {},
   "outputs": [],
   "source": [
    "Important_feature = {'Professional','ProgramHobby','Country','EmploymentStatus','FormalEducation',\n",
    "                     'MajorUndergrad','CompanyType','YearsProgram','DeveloperType','CareerSatisfaction','ProblemSolving',\n",
    "                     'BuildingThings','LearningNewTech','BoringDetails','JobSecurity',\n",
    "                    'FriendsDevelopers','RightWrongWay','UnderstandComputers','SeriousWork','ChallengeMyself','ChangeWorld',\n",
    "                    'ImportantBenefits','ImportantHiringAlgorithms','ImportantHiringTechExp','ImportantHiringCommunication',\n",
    "                     'ImportantHiringOpenSource','ImportantHiringPMExp','ImportantHiringEducation','ImportantHiringGettingThingsDone',\n",
    "                    'EnjoyDebugging','DifficultCommunication','HighestEducationParents','Gender','WorkPayCare'}\n",
    "\n",
    "\n",
    "### 성격과 developer와의 연관성을 조사\n",
    "# 능력과 관련된 column : ['FormalEducation','MajorUndergrad','FriendsDevelopers']\n",
    "\n",
    "# 성격과 관련된 column : ['ProgramHobby','ProblemSolving','BuildingThings','LearningNewTech','BoringDetails','JobSecurity'\n",
    "#                        'RightWrongWay','SeriousWork','ChallengeMyself','ChangeWorld','ImportantHiringEducation',\n",
    "#                         'ImportantHiringGettingThingsDone' ,'DifficultCommunication']\n",
    "\n",
    "# 언어와 관련된 column : ['HaveWorkedLanguage','WantWorkLanguage','HaveWorkedFramework','WantWorkFramework',\n",
    "#                       ,'HaveWorkedDatabase','WantWorkDatabase','HaveWorkedPlatform','WantWorkPlatform']\n",
    "\n",
    "# 개발자에게 중요하다고 생각하는 능력 : [UnderstandComputers','ImportantHiringAlgorithms','ImportantHiringTechExp','ImportantHiringOpenSource'\n",
    "#                                        ,'ImportantHiringCommunication','ImportantHiringEducation','ImportantHiringGettingThingsDone']\n",
    "\n",
    "# 현재의 상태와 관련된 column : ['DeveloperType','CareerSatisfaction','EmploymentStatus','professional','Country']\n",
    "# 웹 개발자가 가장 많이 사용하는 언어 조사 : ['DeveloperType']\n",
    "# 프론트 엔드/back end가 가장 많이 사용하는 언어 조사 "
   ]
  },
  {
   "cell_type": "code",
   "execution_count": null,
   "metadata": {},
   "outputs": [],
   "source": [
    "Public_2017_data['DeveloperType'].head()"
   ]
  },
  {
   "cell_type": "code",
   "execution_count": null,
   "metadata": {
    "scrolled": false
   },
   "outputs": [],
   "source": [
    "def Hot_encoding(DataFrame, Column_name, sep='; ', dropna=True, threading=False, df_dict=None):\n",
    "    item_set = set()\n",
    "    def Unique_element_in_series(item):\n",
    "        if item is np.nan:\n",
    "            pass\n",
    "        else:\n",
    "            item_list = item.split(\"; \")\n",
    "            item_set.update(item_list)\n",
    "\n",
    "    if (dropna == True):\n",
    "        Column_series = DataFrame[Column_name].dropna()\n",
    "        Column_series.apply(Unique_element_in_series)\n",
    "    else:\n",
    "        Column_series = DataFrame[Column_name]\n",
    "    print(Column_series.shape[0])\n",
    "    print(len(item_set))\n",
    "    Hot_encoded_df = pd.DataFrame(data=np.zeros((Column_series.shape[0],len(item_set))), index=Column_series.index, columns=item_set, dtype=np.int8, )\n",
    "    for i in tqdm_notebook(Column_series.index):\n",
    "        item_list = Column_series.loc[i].split(sep)\n",
    "        for item in item_list:\n",
    "            Hot_encoded_df[item].loc[i] = 1\n",
    "    return Hot_encoded_df\n",
    "\n",
    "\n",
    "def Hot_encoding_multi_processing(DataFrame, Column_names, sep='; ', dropna=True, df_dict=None,time_out = 1):\n",
    "    from multiprocessing import Pool\n",
    "    pool = Pool(processes=3)\n",
    "    for Column_name in Column_names:\n",
    "        def printResult(result):\n",
    "            print(result)\n",
    "        result = pool.apply_async(Hot_encoding, args=(DataFrame, Column_name,),callback = printResult)\n",
    "        df_dict[Column_name] = result.get(timeout=time_out)\n",
    "        print(Column_name)\n",
    "    return df_dict\n",
    "\n",
    "df_dict = dict()\n",
    "Column_names = ['ProgramHobby','ProblemSolving','BuildingThings']\n",
    "#,'LearningNewTech','BoringDetails','JobSecurity','RightWrongWay','SeriousWork','ChallengeMyself','ChangeWorld'\n",
    "#df = Hot_encoding(Public_2017_data,'HaveWorkedLanguage')\n",
    "df_dict = Hot_encoding_multi_processing(Public_2017_data,Column_names,df_dict = df_dict,time_out = 1000)"
   ]
  },
  {
   "cell_type": "code",
   "execution_count": null,
   "metadata": {},
   "outputs": [],
   "source": [
    "## 객체 저장 하는 방법\n",
    "with open(os.getcwd()+'/data/data_object/Developer_language_dict.pkl', 'wb') as f:\n",
    "    pickle.dump(Developer_dict, f)"
   ]
  },
  {
   "cell_type": "code",
   "execution_count": null,
   "metadata": {},
   "outputs": [],
   "source": [
    "## 객체 로드 하는 방법\n",
    "directory = os.getcwd() + '/data/data_object/Developer_language_dict.pkl'\n",
    "with open(directory, 'rb') as f :\n",
    "    developement_language_dict = pickle.load(f)"
   ]
  },
  {
   "cell_type": "code",
   "execution_count": null,
   "metadata": {},
   "outputs": [],
   "source": [
    "Developetype_df = pd.read_csv(os.getcwd() +'/data/Developer_df/DeveloperType.csv',index_col = 0)\n",
    "\n",
    "Developer_kind_list = []\n",
    "Developer_number_list = []\n",
    "for i in Developetype_df.columns :\n",
    "    Developer_kind_list.append(i)\n",
    "    Developer_number_list.append(Drop_zeros(Developetype_df,i).shape[0])\n",
    "Developer_number_sr = pd.Series(Developer_number_list,index = Developer_kind_list)\n",
    "Developer_number_sr = Developer_number_sr.sort_values()\n",
    "\n",
    "## 객체 저장 하는 방법\n",
    "directory = os.getcwd() + '/data/data_object/Developer_number_sr.pkl'\n",
    "with open(directory, 'wb') as f :\n",
    "    pickle.dump(Developer_number_sr,f)\n"
   ]
  },
  {
   "cell_type": "code",
   "execution_count": null,
   "metadata": {},
   "outputs": [],
   "source": [
    "directory = os.getcwd() + '/data/data_object/Developer_number_sr.pkl'\n",
    "with open(directory, 'rb') as f :\n",
    "    Developer_number_sr = pickle.load(f)\n",
    "\n",
    "Developer_number_sr.plot(kind='barh')"
   ]
  },
  {
   "cell_type": "code",
   "execution_count": null,
   "metadata": {},
   "outputs": [],
   "source": [
    "with open(os.getcwd()+'/data/Developer_number_sr.pkl', 'wb') as f:\n",
    "    pickle.dump(Developer_number_sr, f)"
   ]
  },
  {
   "cell_type": "code",
   "execution_count": null,
   "metadata": {},
   "outputs": [],
   "source": [
    "# I want to see popular language for big 5\n",
    "# Language_column = ['HaveWorkedLanguage','WantWorkLanguage','HaveWorkedFramework','WantWorkFramework',\n",
    "#                       ,'HaveWorkedDatabase','WantWorkDatabase','HaveWorkedPlatform','WantWorkPlatform']\n",
    "# I think that it would be good to use 'Want' column for future job searching.\n",
    "# Language_column ['WantWorkLanguage','WantWorkFramework','WantWorkDatabase','WantWorkPlatform']\n"
   ]
  },
  {
   "cell_type": "code",
   "execution_count": null,
   "metadata": {},
   "outputs": [],
   "source": [
    "Developertype =pd.read_csv(os.getcwd() +'/data/Developer_df/DeveloperType.csv',index_col = 0)"
   ]
  },
  {
   "cell_type": "code",
   "execution_count": null,
   "metadata": {},
   "outputs": [],
   "source": [
    "Developertype['Other']"
   ]
  },
  {
   "cell_type": "code",
   "execution_count": null,
   "metadata": {},
   "outputs": [],
   "source": [
    "## 개발자 별 성향 table\n",
    "directory = os.getcwd() + '/data/data_object/Developer_number_sr.pkl'\n",
    "with open(directory, 'rb') as f :\n",
    "    Developer_number_sr = pickle.load(f)\n",
    "    \n",
    "Developertype =pd.read_csv(os.getcwd() +'/data/Developer_df/DeveloperType.csv',index_col = 0)\n",
    "for i in Developer_number_sr[-3:].index:\n",
    "    developer_series = Developertype['Other'][Developertype['Other']!=0]\n",
    "    developer_df = Public_2017_data[['ProgramHobby','ProblemSolving','BuildingThings','LearningNewTech','BoringDetails','JobSecurity'\n",
    "                                     ,'RightWrongWay','SeriousWork','ChallengeMyself','ChangeWorld','ImportantHiringEducation',\n",
    "                                     'ImportantHiringGettingThingsDone' ,'DifficultCommunication','FormalEducation','MajorUndergrad','FriendsDevelopers'\n",
    "                                        ,'Country']]\n",
    "    developer_df = pd.merge(developer_series,developer_df,left_index=True,right_index=True)\n",
    "    developer_df.to_csv(os.getcwd()+'/data/Developer_df/'+i+'.csv')\n",
    "    developer_df.head()"
   ]
  },
  {
   "cell_type": "code",
   "execution_count": null,
   "metadata": {},
   "outputs": [],
   "source": [
    "# 하나만 불러오고 싶을때 \n",
    "Developertype =pd.read_csv(os.getcwd() +'/data/Developer_df/DeveloperType.csv',index_col = 0)\n",
    "directory = os.getcwd() + '/data/data_object/Developer_number_sr.pkl'\n",
    "    \n",
    "developer_series = Developertype['Other'][Developertype['Other']!=0]\n",
    "developer_df = Public_2017_data[['ProgramHobby','ProblemSolving','BuildingThings','LearningNewTech','BoringDetails','JobSecurity'\n",
    "                                     ,'RightWrongWay','SeriousWork','ChallengeMyself','ChangeWorld','ImportantHiringEducation',\n",
    "                                     'ImportantHiringGettingThingsDone' ,'DifficultCommunication','FormalEducation','MajorUndergrad','FriendsDevelopers'\n",
    "                                        ,'Country']]\n",
    "developer_df = pd.merge(developer_series,developer_df,left_index=True,right_index=True)\n",
    "developer_df.to_csv(os.getcwd()+'/data/Developer_df/'+'Other.csv')\n",
    "developer_df.head()"
   ]
  },
  {
   "cell_type": "code",
   "execution_count": null,
   "metadata": {},
   "outputs": [],
   "source": [
    "developer_df = Public_2017_data[['ProgramHobby','ProblemSolving','BuildingThings','LearningNewTech','BoringDetails','JobSecurity'\n",
    "                                     ,'RightWrongWay','SeriousWork','ChallengeMyself','ChangeWorld','ImportantHiringEducation',\n",
    "                                     'ImportantHiringGettingThingsDone' ,'DifficultCommunication','FormalEducation','MajorUndergrad','FriendsDevelopers'\n",
    "                                        ,'Country']]\n",
    "developer_df = pd.merge(developer_series,developer_df,left_index=True,right_index=True)"
   ]
  },
  {
   "cell_type": "code",
   "execution_count": null,
   "metadata": {},
   "outputs": [],
   "source": [
    "developer_series = developer_series[developer_series != 0]"
   ]
  },
  {
   "cell_type": "code",
   "execution_count": null,
   "metadata": {},
   "outputs": [],
   "source": [
    "developer_series"
   ]
  },
  {
   "cell_type": "code",
   "execution_count": null,
   "metadata": {},
   "outputs": [],
   "source": [
    "developer_df"
   ]
  },
  {
   "cell_type": "code",
   "execution_count": null,
   "metadata": {},
   "outputs": [],
   "source": [
    "with open(os.getcwd() +'/data/data_object/Developer_number_sr.pkl', 'rb') as f :\n",
    "    Developer_number_sr = pickle.load(f)\n",
    "\n",
    "Developertype_df = pd.read_csv(os.getcwd() +'/data/Developer_df/DeveloperType.csv')\n",
    "\n",
    "\n",
    "Top10_developement_type = Developer_number_sr[-10:]\n",
    "Language_categories  = ['HaveWorkedLanguage','WantWorkLanguage','HaveWorkedFramework','WantWorkFramework','HaveWorkedDatabase','WantWorkDatabase','HaveWorkedPlatform','WantWorkPlatform']\n",
    "\n",
    "\n",
    "\n",
    "\n",
    "Developer_dict = dict()\n",
    "for column in Top10_developement_type.index:\n",
    "    Developer_dict[column] = {'HaveWorkedLanguage':None ,'WantWorkLanguage' : None,'WantWorkFramework' : None,'HaveWorkedFramework': None,\n",
    "                              'HaveWorkedDatabase': None,'WantWorkDatabase' : None,'HaveWorkedPlatform' : None,'WantWorkPlatform' : None}\n",
    "    for category in Language_categories :\n",
    "        Developer_dict[column][category] = count_each_item_in_Series(Public_2017_data[category].loc[Drop_zeros(Developertype_df,column).index].dropna()).sort_values()[-10:]\n",
    "\n",
    "\n",
    "    "
   ]
  },
  {
   "cell_type": "code",
   "execution_count": null,
   "metadata": {},
   "outputs": [],
   "source": [
    "language_plot(developement_language_dict,'Web developer',kind = 'Barh')"
   ]
  },
  {
   "cell_type": "code",
   "execution_count": null,
   "metadata": {
    "scrolled": true
   },
   "outputs": [],
   "source": [
    "with open(os.getcwd() +'/data/data_object/Developer_language_dict.pkl', 'rb') as f :\n",
    "    developement_language_dict = pickle.load(f)\n",
    "    \n",
    "x=['HaveWorkedLanguage','WantWorkLanguage','HaveWorkedFramework','WantWorkFramework','HaveWorkedDatabase','WantWorkDatabase','HaveWorkedPlatform','WantWorkPlatform']\n",
    "labels = ['1st','2nd','3rd','4th','5th']\n",
    "Language_rank_dict = dict()\n",
    "for developement_key in developement_language_dict.keys() :\n",
    "    Language_rank_dict[developement_key] = dict()\n",
    "    rank_count = 0\n",
    "    for label in labels :\n",
    "        Language_rank_dict[developement_key][label] = {\"index\": [],'value' : []}\n",
    "        for Key in developement_language_dict[developement_key].keys() :\n",
    "            index = developement_language_dict[developement_key][Key][-5:].sort_values(ascending = False).index[rank_count]\n",
    "            if index == 'Amazon Web Services (AWS)' :\n",
    "                index = 'AWS'\n",
    "            value = developement_language_dict[developement_key][Key][-5:].sort_values(ascending = False)[rank_count]\n",
    "            Language_rank_dict[developement_key][label]['index'].append(index)\n",
    "            Language_rank_dict[developement_key][label]['value'].append(value)\n",
    "        rank_count += 1\n",
    "        \n",
    "with open(os.getcwd()+'/data/data_object/Language_rank_dict.pkl', 'wb') as f:\n",
    "    pickle.dump(Language_rank_dict, f)"
   ]
  },
  {
   "cell_type": "code",
   "execution_count": null,
   "metadata": {},
   "outputs": [],
   "source": [
    "with open(os.getcwd() +'/data/data_object/Language_rank_dict.pkl', 'rb') as f :\n",
    "    Language_rank_dict = pickle.load(f)\n",
    "labels = ['1st','2nd','3rd','4th','5th']\n",
    "x = ['HaveWorkedLanguage','WantWorkLanguage','HaveWorkedFramework','WantWorkFramework','HaveWorkedDatabase','WantWorkDatabase','HaveWorkedPlatform','WantWorkPlatform']\n",
    "plot_bar_chart_about_language_per_dev(Language_rank_dict,'Systems administrator',labels)\n",
    "#def bar_chart_"
   ]
  },
  {
   "cell_type": "code",
   "execution_count": null,
   "metadata": {},
   "outputs": [],
   "source": [
    "import pandas as pd\n",
    "directory = 'C:/Users/acorn/YDY_FOLDER/Python Analysis/팀 프로젝트/data/Developer_df/Desktop applications developer.csv'\n",
    "desk_df = pd.read_csv(directory)"
   ]
  },
  {
   "cell_type": "code",
   "execution_count": null,
   "metadata": {},
   "outputs": [],
   "source": [
    "directory = 'C:/Users/acorn/YDY_FOLDER/Python Analysis/팀 프로젝트/data/Developer_df/Web developer.csv'\n",
    "web_df = pd.read_csv(directory)\n",
    "web_df"
   ]
  },
  {
   "cell_type": "code",
   "execution_count": null,
   "metadata": {},
   "outputs": [],
   "source": [
    "directory = 'C:/Users/acorn/YDY_FOLDER/Python Analysis/팀 프로젝트/data/Developer_df/Mobile developer.csv'\n",
    "mobile_df = pd.read_csv(directory)"
   ]
  },
  {
   "cell_type": "code",
   "execution_count": null,
   "metadata": {},
   "outputs": [],
   "source": [
    "import matplotlib.pyplot as plt\n",
    "!matplotlib inline\n",
    "columns = ['ProgramHobby','ProblemSolving','BuildingThings','LearningNewTech','BoringDetails','JobSecurity',\n",
    "           'RightWrongWay','SeriousWork','ChallengeMyself','ChangeWorld']\n",
    "desk_dict = dict()\n",
    "for column in columns :\n",
    "    desk_dict[column] = desk_df[column].value_counts()\n",
    "    desk_dict[column].plot(kind = 'barh')"
   ]
  },
  {
   "cell_type": "code",
   "execution_count": null,
   "metadata": {},
   "outputs": [],
   "source": [
    "web_dict.keys()"
   ]
  },
  {
   "cell_type": "code",
   "execution_count": null,
   "metadata": {},
   "outputs": [],
   "source": [
    "web_dict = dict()\n",
    "for column in columns :\n",
    "    web_dict[column] = web_df[column].value_counts()\n",
    "    web_dict[column].plot(kind = 'barh')"
   ]
  },
  {
   "cell_type": "code",
   "execution_count": null,
   "metadata": {},
   "outputs": [],
   "source": [
    "mobile_dict = dict()\n",
    "for column in columns :\n",
    "    mobile_dict[column] = mobile_df[column].value_counts()\n",
    "    mobile_dict[column].plot(kind = 'barh')"
   ]
  },
  {
   "cell_type": "code",
   "execution_count": null,
   "metadata": {},
   "outputs": [],
   "source": [
    "web_dict['ProblemSolving'].plot(kind = 'barh')"
   ]
  },
  {
   "cell_type": "code",
   "execution_count": null,
   "metadata": {},
   "outputs": [],
   "source": [
    "desk_dict['ProblemSolving'].plot(kind = 'barh')"
   ]
  },
  {
   "cell_type": "code",
   "execution_count": null,
   "metadata": {},
   "outputs": [],
   "source": [
    "mobile_dict['ProblemSolving'].plot(kind = 'barh')"
   ]
  },
  {
   "cell_type": "code",
   "execution_count": null,
   "metadata": {},
   "outputs": [],
   "source": []
  }
 ],
 "metadata": {
  "kernelspec": {
   "display_name": "Python 3",
   "language": "python",
   "name": "python3"
  },
  "language_info": {
   "codemirror_mode": {
    "name": "ipython",
    "version": 3
   },
   "file_extension": ".py",
   "mimetype": "text/x-python",
   "name": "python",
   "nbconvert_exporter": "python",
   "pygments_lexer": "ipython3",
   "version": "3.7.3"
  }
 },
 "nbformat": 4,
 "nbformat_minor": 4
}
